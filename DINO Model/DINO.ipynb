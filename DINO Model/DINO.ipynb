{
 "cells": [
  {
   "cell_type": "code",
   "execution_count": 5,
   "id": "812a2cee",
   "metadata": {},
   "outputs": [
    {
     "ename": "SyntaxError",
     "evalue": "invalid syntax (716076758.py, line 1)",
     "output_type": "error",
     "traceback": [
      "\u001b[1;36m  File \u001b[1;32m\"C:\\Users\\occid\\AppData\\Local\\Temp\\ipykernel_24268\\716076758.py\"\u001b[1;36m, line \u001b[1;32m1\u001b[0m\n\u001b[1;33m    pip install torch torchvision\u001b[0m\n\u001b[1;37m        ^\u001b[0m\n\u001b[1;31mSyntaxError\u001b[0m\u001b[1;31m:\u001b[0m invalid syntax\n"
     ]
    }
   ],
   "source": [
    "pip install torch torchvision\n",
    "\n"
   ]
  },
  {
   "cell_type": "code",
   "execution_count": 6,
   "id": "34a69a5c",
   "metadata": {},
   "outputs": [
    {
     "name": "stderr",
     "output_type": "stream",
     "text": [
      "Downloading: \"https://download.pytorch.org/models/vit_b_16_swag-9ac1b537.pth\" to C:\\Users\\occid/.cache\\torch\\hub\\checkpoints\\vit_b_16_swag-9ac1b537.pth\n",
      "100%|██████████| 331M/331M [01:13<00:00, 4.71MB/s] \n"
     ]
    },
    {
     "name": "stdout",
     "output_type": "stream",
     "text": [
      "Failed to fetch image from https://cdn-images.kiotviet.vn/khotonghuynhphuong/aac760da977740ddb985ae8292ae6415.png\n",
      "Failed to fetch image from https://bizweb.dktcdn.net/100/363/802/files/8847e9b9dgjki.jpg\n",
      "Error fetching image from https://api.balance.ari.com.vn/api/v1/supermarket/util/download?key=supermarket-service/product/lcg9rf0v/nuoc-cot-gung-mat-ong-350ml-jXPySN.png: HTTPSConnectionPool(host='api.balance.ari.com.vn', port=443): Max retries exceeded with url: /api/v1/supermarket/util/download?key=supermarket-service/product/lcg9rf0v/nuoc-cot-gung-mat-ong-350ml-jXPySN.png (Caused by NewConnectionError('<urllib3.connection.HTTPSConnection object at 0x000001D5B0679C10>: Failed to establish a new connection: [Errno 11001] getaddrinfo failed'))\n",
      "Failed to fetch image from https://cdn-images.kiotviet.vn/ccshop10/8fd7c0e649e1429184ddde98041ae23c.jpg\n",
      "Error fetching image from https://docs.google.com/uc?id=1oNDUpb92RIFt9DhH2W0g9Lf1V0UgMTjW&export=view: HTTPSConnectionPool(host='docs.google.com', port=443): Max retries exceeded with url: /uc?id=1oNDUpb92RIFt9DhH2W0g9Lf1V0UgMTjW&export=view (Caused by ConnectTimeoutError(<urllib3.connection.HTTPSConnection object at 0x000001D5B0679D90>, 'Connection to docs.google.com timed out. (connect timeout=10)'))\n",
      "Error fetching image from https://cdn.nhanh.vn/cdn/store1/36027/ps/20210106/623202132356_bvlgari_omnia_amethyste__edt.jpg: HTTPSConnectionPool(host='cdn.nhanh.vn', port=443): Max retries exceeded with url: /cdn/store1/36027/ps/20210106/623202132356_bvlgari_omnia_amethyste__edt.jpg (Caused by NewConnectionError('<urllib3.connection.HTTPSConnection object at 0x000001D5B068F580>: Failed to establish a new connection: [Errno 11001] getaddrinfo failed'))\n",
      "Failed to fetch image from http://product.hstatic.net/1000096714/product/13_0e804a15be8448bead62c59fdcb6f0ac.png\n",
      "Error fetching image from http://cdn.nhanh.vn/cdn/store1/57095/ps/20191115/319cefbc4f4a4456ab19d42f37ce3fb6.jpg: HTTPConnectionPool(host='cdn.nhanh.vn', port=80): Max retries exceeded with url: /cdn/store1/57095/ps/20191115/319cefbc4f4a4456ab19d42f37ce3fb6.jpg (Caused by NewConnectionError('<urllib3.connection.HTTPConnection object at 0x000001D5B07AC160>: Failed to establish a new connection: [Errno 11001] getaddrinfo failed'))\n",
      "Error fetching image from https://cdn.nhanh.vn/cdn/store1/36027/ps/20200618/1820202052021_ray-ban-andrea-rb3595-901380.jpg: HTTPSConnectionPool(host='cdn.nhanh.vn', port=443): Max retries exceeded with url: /cdn/store1/36027/ps/20200618/1820202052021_ray-ban-andrea-rb3595-901380.jpg (Caused by NewConnectionError('<urllib3.connection.HTTPSConnection object at 0x000001D5B0679FD0>: Failed to establish a new connection: [Errno 11001] getaddrinfo failed'))\n",
      "Failed to fetch image from https://7hit.vn/pub/media/catalog/product/cache/a72f56678bf8c3935662718e3db2407b/r/e/rectangle-3-_39__optimized_1.png\n",
      "Failed to fetch image from https://7hit.vn/media/catalog/product/k/e/kem-nen-bb-che-khuyet-diem-va-chong-nang-maybelline-newyork-02-natural.jpg\n",
      "Error fetching image from http://cdn.nhanh.vn/cdn/store1/57095/ps/20191115/ba9bade613f641239341c8e0c5dd4ccb.jpg: HTTPConnectionPool(host='cdn.nhanh.vn', port=80): Max retries exceeded with url: /cdn/store1/57095/ps/20191115/ba9bade613f641239341c8e0c5dd4ccb.jpg (Caused by NewConnectionError('<urllib3.connection.HTTPConnection object at 0x000001D5B068F310>: Failed to establish a new connection: [Errno 11001] getaddrinfo failed'))\n",
      "Failed to fetch image from https://cdn2-retail-images.kiotviet.vn/tteuro1964/9b7cb19b7e8c47b09a4e5afd7cb8e0b7.jpg\n",
      "Failed to fetch image from https://kidsland.vn/pub/media/catalog/product/cache/cb3e2f5a23265a02f435f4f82b1bf521/b/a/ban-do-choi-dong-vat-vui-nhon-ccp79-2.jpg\n",
      "Failed to fetch image from https://cdn-export.kiotviet.vn/giavithanhloc/e9f01727fd8a4971ad0d192893315d4b.jpg\n",
      "Failed to fetch image from https://cdn2-retail-images.kiotviet.vn/tteuro1964/7595add5c515407ea46a7d778477b896.jpg\n",
      "Failed to fetch image from https://cdn-images.kiotviet.vn/drsua/c42e7d760d194922a065939b857f37e0.png\n",
      "Failed to fetch image from https://i0.wp.com/s1.uphinh.org/2021/10/10/image736cdea19019d6c2.png\n",
      "Failed to fetch image from https://voicon.net/wp-content/uploads/2021/01/ghe-2-nhun-aubfc01-hn-1.jpg\n",
      "Error fetching image from https://cdn.nhanh.vn/cdn/store1/36027/ps/20201030/3030202053047_ddd%C4%91.jpg: HTTPSConnectionPool(host='cdn.nhanh.vn', port=443): Max retries exceeded with url: /cdn/store1/36027/ps/20201030/3030202053047_ddd%C4%91.jpg (Caused by NewConnectionError('<urllib3.connection.HTTPSConnection object at 0x000001D5B068F880>: Failed to establish a new connection: [Errno 11001] getaddrinfo failed'))\n",
      "Failed to fetch image from https://cdn-images.kiotviet.vn/hontojapan/ad6522ecdb21420f84c5e7f3d8208ffe.jpeg\n",
      "Error fetching image from https://cdn.nhanh.vn/cdn/store1/36027/ps/20200119/19252020112553_img-04751.jpg: HTTPSConnectionPool(host='cdn.nhanh.vn', port=443): Max retries exceeded with url: /cdn/store1/36027/ps/20200119/19252020112553_img-04751.jpg (Caused by NewConnectionError('<urllib3.connection.HTTPSConnection object at 0x000001D5B068F1F0>: Failed to establish a new connection: [Errno 11001] getaddrinfo failed'))\n",
      "Failed to fetch image from https://7hit.vn/pub/media/catalog/product/m/a/mat-na-cham-soc-toc-hu-ton-yves-rocher-repair-2-in-1-cream-mask-200ml-3.jpg\n",
      "Failed to fetch image from https://cdn-images.kiotviet.vn/tteuro1964/9e22cc08df3c4b059c778b897c74a4cc.png\n",
      "Failed to fetch image from https://i.imgur.com/uFfKLec.jpg\n",
      "Failed to fetch image from https://cdn-images.kiotviet.vn/khotonghuynhphuong/f2513f7d9fb44046893855948769eb76.jpg\n",
      "Error fetching image from https://cdn.nhanh.vn/cdn/store1/36027/ps/20200429/2910202051034_95140240_3066654923395854_6303744378175225856_n.jpg: HTTPSConnectionPool(host='cdn.nhanh.vn', port=443): Max retries exceeded with url: /cdn/store1/36027/ps/20200429/2910202051034_95140240_3066654923395854_6303744378175225856_n.jpg (Caused by NewConnectionError('<urllib3.connection.HTTPSConnection object at 0x000001D5B068F310>: Failed to establish a new connection: [Errno 11001] getaddrinfo failed'))\n",
      "Error fetching image from http://somm.vn/hennessy-paradis-extra-p38542303.html: cannot identify image file <_io.BytesIO object at 0x000001D5B0594EF0>\n",
      "Failed to fetch image from https://cdn2-retail-images.kiotviet.vn/sieuthi247minhhoang/8b897df5b0964b4aaeeeb3f01004b4ec.png\n",
      "Error fetching image from https://cdn-images.kiotviet.vn/beemartqn/3f0a0674e79e456eb2cf88a82db119a4.png: cannot identify image file <_io.BytesIO object at 0x000001D5B0883B30>\n",
      "Error fetching image from https://scontent-xsp1-3.xx.fbcdn.net/v/t1.6435-9/141725461_3911241212230726_1429808746772819252_n.jpg?_nc_cat=107ccb=1-3_nc_sid=8bfeb9_nc_ohc=JaG2zwze244AX_zCramtn=N5sWGPyPfO8fkeOC_nc_ht=scontent-xsp1-3.xxoh=68c46e95f5c1cfb1103f3fc2ca11f1cdoe=60E0BF3B: HTTPSConnectionPool(host='scontent-xsp1-3.xx.fbcdn.net', port=443): Max retries exceeded with url: /v/t1.6435-9/141725461_3911241212230726_1429808746772819252_n.jpg?_nc_cat=107ccb=1-3_nc_sid=8bfeb9_nc_ohc=JaG2zwze244AX_zCramtn=N5sWGPyPfO8fkeOC_nc_ht=scontent-xsp1-3.xxoh=68c46e95f5c1cfb1103f3fc2ca11f1cdoe=60E0BF3B (Caused by NewConnectionError('<urllib3.connection.HTTPSConnection object at 0x000001D5B068F130>: Failed to establish a new connection: [Errno 11001] getaddrinfo failed'))\n",
      "Error fetching image from https://acch6.miniso.com/hdpos4-web/image/?fileId=goodsImages%2F7080231399510.jpg: HTTPSConnectionPool(host='acch6.miniso.com', port=443): Max retries exceeded with url: /hdpos4-web/image/?fileId=goodsImages%2F7080231399510.jpg (Caused by ConnectTimeoutError(<urllib3.connection.HTTPSConnection object at 0x000001D5B068F910>, 'Connection to acch6.miniso.com timed out. (connect timeout=10)'))\n",
      "Failed to fetch image from https://cdn2-retail-images.kiotviet.vn/bachhoakhanhcuong/cfaf5d421e9b4e059203710072d8bfaa.png\n",
      "Failed to fetch image from https://cdn-images.kiotviet.vn/nuochoa365/666c3878f7694c8d9e97832c1400689a.jpeg\n",
      "Error fetching image from https://cdn-ima: HTTPSConnectionPool(host='cdn-ima', port=443): Max retries exceeded with url: / (Caused by NewConnectionError('<urllib3.connection.HTTPSConnection object at 0x000001D5B068FE50>: Failed to establish a new connection: [Errno 11001] getaddrinfo failed'))\n"
     ]
    },
    {
     "name": "stdout",
     "output_type": "stream",
     "text": [
      "Failed to fetch image from https://cdn-images.kiotviet.vn/nppannhung/c2c636590859487d9bf2b3dec370ebb0.jpeg\n",
      "Error fetching image from https://cdn.nhanh.vn/cdn/store1/36027/ps/20201010/1010202091014_120882918_3545153138879361_5625452291125109538_n.jpg: HTTPSConnectionPool(host='cdn.nhanh.vn', port=443): Max retries exceeded with url: /cdn/store1/36027/ps/20201010/1010202091014_120882918_3545153138879361_5625452291125109538_n.jpg (Caused by NewConnectionError('<urllib3.connection.HTTPSConnection object at 0x000001D5B068FE50>: Failed to establish a new connection: [Errno 11001] getaddrinfo failed'))\n",
      "Error fetching image from http://douongcaocap.vn/wp-content/uploads/2017/10/Vang-Montes-Limited-Selection-Pinot-Noir-13.png: HTTPConnectionPool(host='no.access', port=80): Max retries exceeded with url: / (Caused by NewConnectionError('<urllib3.connection.HTTPConnection object at 0x000001D5B0870B50>: Failed to establish a new connection: [Errno 11001] getaddrinfo failed'))\n",
      "Error fetching image from https://cdn.nhanh.vn/cdn/store1/36027/ps/20200227/2749202094925_85216751_2917044995023515_7701405733627101184_n.jpg: HTTPSConnectionPool(host='cdn.nhanh.vn', port=443): Max retries exceeded with url: /cdn/store1/36027/ps/20200227/2749202094925_85216751_2917044995023515_7701405733627101184_n.jpg (Caused by NewConnectionError('<urllib3.connection.HTTPSConnection object at 0x000001D5B08709D0>: Failed to establish a new connection: [Errno 11001] getaddrinfo failed'))\n",
      "Failed to fetch image from https://cdn2-retail-images.kiotviet.vn/tteuro1964/51f79217ece44e3994c0e547ca39098f.png\n",
      "Error fetching image from https://cdn.nhanh.vn/cdn/store1/36027/ps/20200925/25502020105011_119979278_1431424993709911_1243405997656103545_n.png: HTTPSConnectionPool(host='cdn.nhanh.vn', port=443): Max retries exceeded with url: /cdn/store1/36027/ps/20200925/25502020105011_119979278_1431424993709911_1243405997656103545_n.png (Caused by NewConnectionError('<urllib3.connection.HTTPSConnection object at 0x000001D5B08704C0>: Failed to establish a new connection: [Errno 11001] getaddrinfo failed'))\n",
      "Failed to fetch image from https://cdn-download.kiotviet.vn/kiotviet-export/tuanluu/7595781c7b284eb389dfdbaf02bd03bb.png\n",
      "Failed to fetch image from https://bizweb.dktcdn.net/100/363/802/files/908cedffiadhh.jpg\n",
      "Image similarity matrix saved to C:\\Users\\occid\\Image_Similarity_Matrix_DINO_Torchvision.xlsx\n"
     ]
    }
   ],
   "source": [
    "import pandas as pd\n",
    "import requests\n",
    "from PIL import Image\n",
    "from io import BytesIO\n",
    "import numpy as np\n",
    "import torch\n",
    "from torchvision.models import vit_b_16, ViT_B_16_Weights\n",
    "import torchvision.transforms as transforms\n",
    "from sklearn.metrics.pairwise import cosine_similarity\n",
    "\n",
    "# Load the Excel file\n",
    "file_path = 'C:\\\\Users\\\\occid\\\\cleaned_data_no_duplicates.xlsx'\n",
    "sheet_name = 'Sheet1'\n",
    "df = pd.read_excel(file_path, sheet_name=sheet_name)\n",
    "\n",
    "# Load the DINO (ViT) model from torchvision\n",
    "weights = ViT_B_16_Weights.IMAGENET1K_SWAG_E2E_V1\n",
    "model = vit_b_16(weights=weights)\n",
    "model.eval()  # Set the model to evaluation mode\n",
    "\n",
    "# Define preprocessing transformations\n",
    "preprocess = weights.transforms()\n",
    "\n",
    "# Function to fetch and preprocess an image from a URL\n",
    "def process_image_from_url(url):\n",
    "    try:\n",
    "        response = requests.get(url, timeout=10)\n",
    "        if response.status_code == 200:\n",
    "            image = Image.open(BytesIO(response.content)).convert('RGB')\n",
    "            return preprocess(image).unsqueeze(0)  # Add batch dimension\n",
    "        else:\n",
    "            print(f\"Failed to fetch image from {url}\")\n",
    "            return None\n",
    "    except Exception as e:\n",
    "        print(f\"Error fetching image from {url}: {e}\")\n",
    "        return None\n",
    "\n",
    "# Function to extract feature vector from an image using the DINO model\n",
    "def extract_features(image_tensor):\n",
    "    try:\n",
    "        with torch.no_grad():\n",
    "            outputs = model(image_tensor)\n",
    "        return outputs.squeeze(0).numpy()  # Remove batch dimension\n",
    "    except Exception as e:\n",
    "        print(f\"Error extracting features: {e}\")\n",
    "        return None\n",
    "\n",
    "# List of image URLs from the dataset\n",
    "image_urls = df['image'].tolist()\n",
    "barcodes = df['barcode'].tolist()\n",
    "features = []\n",
    "\n",
    "# Process each image URL and extract features\n",
    "valid_barcodes = []\n",
    "for url, barcode in zip(image_urls, barcodes):\n",
    "    image_tensor = process_image_from_url(url)\n",
    "    if image_tensor is not None:\n",
    "        feature_vector = extract_features(image_tensor)\n",
    "        if feature_vector is not None:\n",
    "            features.append(feature_vector)\n",
    "            valid_barcodes.append(barcode)\n",
    "\n",
    "# Flatten feature vectors for similarity computation\n",
    "features = np.vstack(features)\n",
    "\n",
    "# Calculate similarity matrix\n",
    "similarity_matrix = cosine_similarity(features)\n",
    "\n",
    "# Create a similarity matrix DataFrame using valid barcodes\n",
    "similarity_df = pd.DataFrame(similarity_matrix, columns=valid_barcodes, index=valid_barcodes)\n",
    "\n",
    "# Save the similarity matrix to a file for review\n",
    "output_file = \"C:\\\\Users\\\\occid\\\\Image_Similarity_Matrix_DINO_Torchvision.xlsx\"\n",
    "similarity_df.to_excel(output_file)\n",
    "\n",
    "print(f\"Image similarity matrix saved to {output_file}\")\n"
   ]
  },
  {
   "cell_type": "code",
   "execution_count": 8,
   "id": "cefddb0e",
   "metadata": {},
   "outputs": [
    {
     "name": "stdout",
     "output_type": "stream",
     "text": [
      "Similar pairs saved to 'similar_image_pairs.csv'\n"
     ]
    }
   ],
   "source": [
    "import pandas as pd\n",
    "import numpy as np\n",
    "\n",
    "# Load the full similarity matrix\n",
    "file_path = 'C:\\\\Users\\\\occid\\\\Image_Similarity_Matrix_DINO_Torchvision.xlsx'\n",
    "similarity_matrix = pd.read_excel(file_path, index_col=0)\n",
    "\n",
    "# Define similarity threshold\n",
    "similarity_threshold = 0.8\n",
    "\n",
    "# Extract image IDs\n",
    "image_ids = similarity_matrix.columns.astype(str).tolist()\n",
    "\n",
    "# Convert the matrix to a NumPy array for efficient computation\n",
    "matrix_values = similarity_matrix.values\n",
    "\n",
    "# Find pairs of images with similarity above the threshold\n",
    "similar_pairs = []\n",
    "for i in range(len(matrix_values)):\n",
    "    for j in range(i + 1, len(matrix_values)):  # Upper triangle only\n",
    "        if matrix_values[i, j] > similarity_threshold:\n",
    "            similar_pairs.append((image_ids[i], image_ids[j], matrix_values[i, j]))\n",
    "\n",
    "# Create a DataFrame for better visualization\n",
    "similar_pairs_df = pd.DataFrame(similar_pairs, columns=[\"Image ID 1\", \"Image ID 2\", \"Similarity Score\"])\n",
    "\n",
    "# Save or display results\n",
    "similar_pairs_df.to_csv('similar_image_pairs_DINO.csv', index=False)\n",
    "print(\"Similar pairs saved to 'similar_image_pairs.csv'\")"
   ]
  },
  {
   "cell_type": "code",
   "execution_count": null,
   "id": "19be1845",
   "metadata": {},
   "outputs": [],
   "source": []
  }
 ],
 "metadata": {
  "kernelspec": {
   "display_name": "Python 3 (ipykernel)",
   "language": "python",
   "name": "python3"
  },
  "language_info": {
   "codemirror_mode": {
    "name": "ipython",
    "version": 3
   },
   "file_extension": ".py",
   "mimetype": "text/x-python",
   "name": "python",
   "nbconvert_exporter": "python",
   "pygments_lexer": "ipython3",
   "version": "3.9.13"
  }
 },
 "nbformat": 4,
 "nbformat_minor": 5
}
