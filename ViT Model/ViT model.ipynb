{
 "cells": [
  {
   "cell_type": "code",
   "execution_count": 1,
   "id": "18b598a4",
   "metadata": {},
   "outputs": [
    {
     "name": "stdout",
     "output_type": "stream",
     "text": [
      "Requirement already satisfied: transformers in c:\\users\\occid\\anaconda3\\lib\\site-packages (4.47.0)\n",
      "Requirement already satisfied: requests in c:\\users\\occid\\anaconda3\\lib\\site-packages (from transformers) (2.28.1)\n",
      "Requirement already satisfied: packaging>=20.0 in c:\\users\\occid\\anaconda3\\lib\\site-packages (from transformers) (21.3)\n",
      "Requirement already satisfied: tqdm>=4.27 in c:\\users\\occid\\anaconda3\\lib\\site-packages (from transformers) (4.64.1)\n",
      "Requirement already satisfied: tokenizers<0.22,>=0.21 in c:\\users\\occid\\anaconda3\\lib\\site-packages (from transformers) (0.21.0)\n",
      "Requirement already satisfied: safetensors>=0.4.1 in c:\\users\\occid\\anaconda3\\lib\\site-packages (from transformers) (0.4.5)\n",
      "Requirement already satisfied: filelock in c:\\users\\occid\\anaconda3\\lib\\site-packages (from transformers) (3.6.0)\n",
      "Requirement already satisfied: pyyaml>=5.1 in c:\\users\\occid\\anaconda3\\lib\\site-packages (from transformers) (6.0)\n",
      "Requirement already satisfied: huggingface-hub<1.0,>=0.24.0 in c:\\users\\occid\\anaconda3\\lib\\site-packages (from transformers) (0.26.5)\n",
      "Requirement already satisfied: numpy>=1.17 in c:\\users\\occid\\anaconda3\\lib\\site-packages (from transformers) (1.23.2)\n",
      "Requirement already satisfied: regex!=2019.12.17 in c:\\users\\occid\\anaconda3\\lib\\site-packages (from transformers) (2022.7.9)\n",
      "Requirement already satisfied: typing-extensions>=3.7.4.3 in c:\\users\\occid\\anaconda3\\lib\\site-packages (from huggingface-hub<1.0,>=0.24.0->transformers) (4.12.2)\n",
      "Requirement already satisfied: fsspec>=2023.5.0 in c:\\users\\occid\\anaconda3\\lib\\site-packages (from huggingface-hub<1.0,>=0.24.0->transformers) (2024.10.0)\n",
      "Requirement already satisfied: pyparsing!=3.0.5,>=2.0.2 in c:\\users\\occid\\anaconda3\\lib\\site-packages (from packaging>=20.0->transformers) (3.0.9)\n",
      "Requirement already satisfied: colorama in c:\\users\\occid\\anaconda3\\lib\\site-packages (from tqdm>=4.27->transformers) (0.4.5)\n",
      "Requirement already satisfied: charset-normalizer<3,>=2 in c:\\users\\occid\\anaconda3\\lib\\site-packages (from requests->transformers) (2.0.4)\n",
      "Requirement already satisfied: certifi>=2017.4.17 in c:\\users\\occid\\anaconda3\\lib\\site-packages (from requests->transformers) (2022.9.14)\n",
      "Requirement already satisfied: urllib3<1.27,>=1.21.1 in c:\\users\\occid\\anaconda3\\lib\\site-packages (from requests->transformers) (1.26.11)\n",
      "Requirement already satisfied: idna<4,>=2.5 in c:\\users\\occid\\appdata\\roaming\\python\\python39\\site-packages (from requests->transformers) (3.7)\n",
      "Note: you may need to restart the kernel to use updated packages.\n"
     ]
    }
   ],
   "source": [
    "pip install transformers\n"
   ]
  },
  {
   "cell_type": "code",
   "execution_count": 2,
   "id": "fc52a885",
   "metadata": {},
   "outputs": [
    {
     "name": "stdout",
     "output_type": "stream",
     "text": [
      "Requirement already satisfied: torch in c:\\users\\occid\\anaconda3\\lib\\site-packages (2.5.1)\n",
      "Requirement already satisfied: torchvision in c:\\users\\occid\\anaconda3\\lib\\site-packages (0.20.1)\n",
      "Requirement already satisfied: jinja2 in c:\\users\\occid\\anaconda3\\lib\\site-packages (from torch) (2.11.3)\n",
      "Requirement already satisfied: networkx in c:\\users\\occid\\anaconda3\\lib\\site-packages (from torch) (2.8.4)\n",
      "Requirement already satisfied: fsspec in c:\\users\\occid\\anaconda3\\lib\\site-packages (from torch) (2024.10.0)\n",
      "Requirement already satisfied: typing-extensions>=4.8.0 in c:\\users\\occid\\anaconda3\\lib\\site-packages (from torch) (4.12.2)\n",
      "Requirement already satisfied: sympy==1.13.1 in c:\\users\\occid\\anaconda3\\lib\\site-packages (from torch) (1.13.1)\n",
      "Requirement already satisfied: filelock in c:\\users\\occid\\anaconda3\\lib\\site-packages (from torch) (3.6.0)\n",
      "Requirement already satisfied: mpmath<1.4,>=1.1.0 in c:\\users\\occid\\anaconda3\\lib\\site-packages (from sympy==1.13.1->torch) (1.2.1)\n",
      "Requirement already satisfied: pillow!=8.3.*,>=5.3.0 in c:\\users\\occid\\anaconda3\\lib\\site-packages (from torchvision) (11.0.0)\n",
      "Requirement already satisfied: numpy in c:\\users\\occid\\anaconda3\\lib\\site-packages (from torchvision) (1.23.2)\n",
      "Requirement already satisfied: MarkupSafe>=0.23 in c:\\users\\occid\\anaconda3\\lib\\site-packages (from jinja2->torch) (2.0.1)\n",
      "Note: you may need to restart the kernel to use updated packages.\n"
     ]
    }
   ],
   "source": [
    "pip install torch torchvision\n"
   ]
  },
  {
   "cell_type": "code",
   "execution_count": 3,
   "id": "13a9ae51",
   "metadata": {},
   "outputs": [
    {
     "name": "stderr",
     "output_type": "stream",
     "text": [
      "Some weights of ViTModel were not initialized from the model checkpoint at google/vit-base-patch16-224 and are newly initialized: ['vit.pooler.dense.bias', 'vit.pooler.dense.weight']\n",
      "You should probably TRAIN this model on a down-stream task to be able to use it for predictions and inference.\n"
     ]
    },
    {
     "name": "stdout",
     "output_type": "stream",
     "text": [
      "Failed to fetch image from https://cdn-images.kiotviet.vn/khotonghuynhphuong/aac760da977740ddb985ae8292ae6415.png\n",
      "Error fetching image from https://sapo.dktcdn.net/100/566/185/variants/617c945a-cc1b-46c9-9be6-eba66aa9a3ba.jpg: HTTPSConnectionPool(host='sapo.dktcdn.net', port=443): Read timed out. (read timeout=10)\n",
      "Failed to fetch image from https://bizweb.dktcdn.net/100/363/802/files/8847e9b9dgjki.jpg\n",
      "Error fetching image from https://api.balance.ari.com.vn/api/v1/supermarket/util/download?key=supermarket-service/product/lcg9rf0v/nuoc-cot-gung-mat-ong-350ml-jXPySN.png: HTTPSConnectionPool(host='api.balance.ari.com.vn', port=443): Max retries exceeded with url: /api/v1/supermarket/util/download?key=supermarket-service/product/lcg9rf0v/nuoc-cot-gung-mat-ong-350ml-jXPySN.png (Caused by NewConnectionError('<urllib3.connection.HTTPSConnection object at 0x0000018F10F170A0>: Failed to establish a new connection: [Errno 11001] getaddrinfo failed'))\n",
      "Failed to fetch image from https://cdn-images.kiotviet.vn/ccshop10/8fd7c0e649e1429184ddde98041ae23c.jpg\n",
      "Error fetching image from https://cdn.nhanh.vn/cdn/store1/36027/ps/20210106/623202132356_bvlgari_omnia_amethyste__edt.jpg: HTTPSConnectionPool(host='cdn.nhanh.vn', port=443): Max retries exceeded with url: /cdn/store1/36027/ps/20210106/623202132356_bvlgari_omnia_amethyste__edt.jpg (Caused by NewConnectionError('<urllib3.connection.HTTPSConnection object at 0x0000018F10F22E80>: Failed to establish a new connection: [Errno 11001] getaddrinfo failed'))\n",
      "Failed to fetch image from http://product.hstatic.net/1000096714/product/13_0e804a15be8448bead62c59fdcb6f0ac.png\n",
      "Error fetching image from http://cdn.nhanh.vn/cdn/store1/57095/ps/20191115/319cefbc4f4a4456ab19d42f37ce3fb6.jpg: HTTPConnectionPool(host='cdn.nhanh.vn', port=80): Max retries exceeded with url: /cdn/store1/57095/ps/20191115/319cefbc4f4a4456ab19d42f37ce3fb6.jpg (Caused by NewConnectionError('<urllib3.connection.HTTPConnection object at 0x0000018F10F7BD90>: Failed to establish a new connection: [Errno 11001] getaddrinfo failed'))\n",
      "Error fetching image from https://cdn.nhanh.vn/cdn/store1/36027/ps/20200618/1820202052021_ray-ban-andrea-rb3595-901380.jpg: HTTPSConnectionPool(host='cdn.nhanh.vn', port=443): Max retries exceeded with url: /cdn/store1/36027/ps/20200618/1820202052021_ray-ban-andrea-rb3595-901380.jpg (Caused by NewConnectionError('<urllib3.connection.HTTPSConnection object at 0x0000018F10F85100>: Failed to establish a new connection: [Errno 11001] getaddrinfo failed'))\n",
      "Failed to fetch image from https://7hit.vn/pub/media/catalog/product/cache/a72f56678bf8c3935662718e3db2407b/r/e/rectangle-3-_39__optimized_1.png\n",
      "Failed to fetch image from https://7hit.vn/media/catalog/product/k/e/kem-nen-bb-che-khuyet-diem-va-chong-nang-maybelline-newyork-02-natural.jpg\n",
      "Error fetching image from http://cdn.nhanh.vn/cdn/store1/57095/ps/20191115/ba9bade613f641239341c8e0c5dd4ccb.jpg: HTTPConnectionPool(host='cdn.nhanh.vn', port=80): Max retries exceeded with url: /cdn/store1/57095/ps/20191115/ba9bade613f641239341c8e0c5dd4ccb.jpg (Caused by NewConnectionError('<urllib3.connection.HTTPConnection object at 0x0000018F10FB4190>: Failed to establish a new connection: [Errno 11001] getaddrinfo failed'))\n",
      "Failed to fetch image from https://cdn2-retail-images.kiotviet.vn/tteuro1964/9b7cb19b7e8c47b09a4e5afd7cb8e0b7.jpg\n",
      "Error fetching image from https://cdn-images.kiotviet.vn/thegioisuangantuong10/247d4e8f58b148b0ba0f73296b24aa79.png: HTTPSConnectionPool(host='cdn-images.kiotviet.vn', port=443): Read timed out. (read timeout=10)\n",
      "Failed to fetch image from https://kidsland.vn/pub/media/catalog/product/cache/cb3e2f5a23265a02f435f4f82b1bf521/b/a/ban-do-choi-dong-vat-vui-nhon-ccp79-2.jpg\n",
      "Failed to fetch image from https://cdn-export.kiotviet.vn/giavithanhloc/e9f01727fd8a4971ad0d192893315d4b.jpg\n",
      "Failed to fetch image from https://cdn2-retail-images.kiotviet.vn/tteuro1964/7595add5c515407ea46a7d778477b896.jpg\n",
      "Failed to fetch image from https://cdn-images.kiotviet.vn/drsua/c42e7d760d194922a065939b857f37e0.png\n",
      "Failed to fetch image from https://i0.wp.com/s1.uphinh.org/2021/10/10/image736cdea19019d6c2.png\n",
      "Failed to fetch image from https://voicon.net/wp-content/uploads/2021/01/ghe-2-nhun-aubfc01-hn-1.jpg\n",
      "Error fetching image from https://cdn.nhanh.vn/cdn/store1/36027/ps/20201030/3030202053047_ddd%C4%91.jpg: HTTPSConnectionPool(host='cdn.nhanh.vn', port=443): Max retries exceeded with url: /cdn/store1/36027/ps/20201030/3030202053047_ddd%C4%91.jpg (Caused by NewConnectionError('<urllib3.connection.HTTPSConnection object at 0x0000018F10FEAB20>: Failed to establish a new connection: [Errno 11001] getaddrinfo failed'))\n",
      "Failed to fetch image from https://cdn-images.kiotviet.vn/hontojapan/ad6522ecdb21420f84c5e7f3d8208ffe.jpeg\n",
      "Error fetching image from https://cdn.nhanh.vn/cdn/store1/36027/ps/20200119/19252020112553_img-04751.jpg: HTTPSConnectionPool(host='cdn.nhanh.vn', port=443): Max retries exceeded with url: /cdn/store1/36027/ps/20200119/19252020112553_img-04751.jpg (Caused by NewConnectionError('<urllib3.connection.HTTPSConnection object at 0x0000018F1107E580>: Failed to establish a new connection: [Errno 11001] getaddrinfo failed'))\n",
      "Failed to fetch image from https://7hit.vn/pub/media/catalog/product/m/a/mat-na-cham-soc-toc-hu-ton-yves-rocher-repair-2-in-1-cream-mask-200ml-3.jpg\n",
      "Failed to fetch image from https://cdn-images.kiotviet.vn/tteuro1964/9e22cc08df3c4b059c778b897c74a4cc.png\n",
      "Failed to fetch image from https://i.imgur.com/uFfKLec.jpg\n",
      "Failed to fetch image from https://cdn-images.kiotviet.vn/khotonghuynhphuong/f2513f7d9fb44046893855948769eb76.jpg\n",
      "Error fetching image from https://cdn.nhanh.vn/cdn/store1/36027/ps/20200429/2910202051034_95140240_3066654923395854_6303744378175225856_n.jpg: HTTPSConnectionPool(host='cdn.nhanh.vn', port=443): Max retries exceeded with url: /cdn/store1/36027/ps/20200429/2910202051034_95140240_3066654923395854_6303744378175225856_n.jpg (Caused by NewConnectionError('<urllib3.connection.HTTPSConnection object at 0x0000018F1107EB50>: Failed to establish a new connection: [Errno 11001] getaddrinfo failed'))\n",
      "Error fetching image from http://somm.vn/hennessy-paradis-extra-p38542303.html: cannot identify image file <_io.BytesIO object at 0x0000018F110BAEF0>\n",
      "Failed to fetch image from https://cdn2-retail-images.kiotviet.vn/sieuthi247minhhoang/8b897df5b0964b4aaeeeb3f01004b4ec.png\n",
      "Error fetching image from https://cdn-images.kiotviet.vn/beemartqn/3f0a0674e79e456eb2cf88a82db119a4.png: cannot identify image file <_io.BytesIO object at 0x0000018F1118AF40>\n",
      "Error fetching image from https://scontent-xsp1-3.xx.fbcdn.net/v/t1.6435-9/141725461_3911241212230726_1429808746772819252_n.jpg?_nc_cat=107ccb=1-3_nc_sid=8bfeb9_nc_ohc=JaG2zwze244AX_zCramtn=N5sWGPyPfO8fkeOC_nc_ht=scontent-xsp1-3.xxoh=68c46e95f5c1cfb1103f3fc2ca11f1cdoe=60E0BF3B: HTTPSConnectionPool(host='scontent-xsp1-3.xx.fbcdn.net', port=443): Max retries exceeded with url: /v/t1.6435-9/141725461_3911241212230726_1429808746772819252_n.jpg?_nc_cat=107ccb=1-3_nc_sid=8bfeb9_nc_ohc=JaG2zwze244AX_zCramtn=N5sWGPyPfO8fkeOC_nc_ht=scontent-xsp1-3.xxoh=68c46e95f5c1cfb1103f3fc2ca11f1cdoe=60E0BF3B (Caused by NewConnectionError('<urllib3.connection.HTTPSConnection object at 0x0000018F111901F0>: Failed to establish a new connection: [Errno 11001] getaddrinfo failed'))\n",
      "Error fetching image from https://acch6.miniso.com/hdpos4-web/image/?fileId=goodsImages%2F7080231399510.jpg: HTTPSConnectionPool(host='acch6.miniso.com', port=443): Max retries exceeded with url: /hdpos4-web/image/?fileId=goodsImages%2F7080231399510.jpg (Caused by ConnectTimeoutError(<urllib3.connection.HTTPSConnection object at 0x0000018F111907F0>, 'Connection to acch6.miniso.com timed out. (connect timeout=10)'))\n",
      "Failed to fetch image from https://cdn2-retail-images.kiotviet.vn/bachhoakhanhcuong/cfaf5d421e9b4e059203710072d8bfaa.png\n",
      "Failed to fetch image from https://cdn-images.kiotviet.vn/nuochoa365/666c3878f7694c8d9e97832c1400689a.jpeg\n",
      "Error fetching image from https://cdn-ima: HTTPSConnectionPool(host='cdn-ima', port=443): Max retries exceeded with url: / (Caused by NewConnectionError('<urllib3.connection.HTTPSConnection object at 0x0000018F111ED280>: Failed to establish a new connection: [Errno 11001] getaddrinfo failed'))\n"
     ]
    },
    {
     "name": "stdout",
     "output_type": "stream",
     "text": [
      "Failed to fetch image from https://cdn-images.kiotviet.vn/nppannhung/c2c636590859487d9bf2b3dec370ebb0.jpeg\n",
      "Error fetching image from https://cdn.nhanh.vn/cdn/store1/36027/ps/20201010/1010202091014_120882918_3545153138879361_5625452291125109538_n.jpg: HTTPSConnectionPool(host='cdn.nhanh.vn', port=443): Max retries exceeded with url: /cdn/store1/36027/ps/20201010/1010202091014_120882918_3545153138879361_5625452291125109538_n.jpg (Caused by NewConnectionError('<urllib3.connection.HTTPSConnection object at 0x0000018F111F0700>: Failed to establish a new connection: [Errno 11001] getaddrinfo failed'))\n",
      "Error fetching image from http://douongcaocap.vn/wp-content/uploads/2017/10/Vang-Montes-Limited-Selection-Pinot-Noir-13.png: HTTPConnectionPool(host='no.access', port=80): Max retries exceeded with url: / (Caused by NewConnectionError('<urllib3.connection.HTTPConnection object at 0x0000018F11202220>: Failed to establish a new connection: [Errno 11001] getaddrinfo failed'))\n",
      "Error fetching image from https://cdn.nhanh.vn/cdn/store1/36027/ps/20200227/2749202094925_85216751_2917044995023515_7701405733627101184_n.jpg: HTTPSConnectionPool(host='cdn.nhanh.vn', port=443): Max retries exceeded with url: /cdn/store1/36027/ps/20200227/2749202094925_85216751_2917044995023515_7701405733627101184_n.jpg (Caused by NewConnectionError('<urllib3.connection.HTTPSConnection object at 0x0000018F111FA1C0>: Failed to establish a new connection: [Errno 11001] getaddrinfo failed'))\n",
      "Failed to fetch image from https://cdn2-retail-images.kiotviet.vn/tteuro1964/51f79217ece44e3994c0e547ca39098f.png\n",
      "Error fetching image from https://cdn.nhanh.vn/cdn/store1/36027/ps/20200925/25502020105011_119979278_1431424993709911_1243405997656103545_n.png: HTTPSConnectionPool(host='cdn.nhanh.vn', port=443): Max retries exceeded with url: /cdn/store1/36027/ps/20200925/25502020105011_119979278_1431424993709911_1243405997656103545_n.png (Caused by NewConnectionError('<urllib3.connection.HTTPSConnection object at 0x0000018F111FA760>: Failed to establish a new connection: [Errno 11001] getaddrinfo failed'))\n",
      "Failed to fetch image from https://cdn-download.kiotviet.vn/kiotviet-export/tuanluu/7595781c7b284eb389dfdbaf02bd03bb.png\n",
      "Failed to fetch image from https://bizweb.dktcdn.net/100/363/802/files/908cedffiadhh.jpg\n",
      "Image similarity matrix saved to C:\\Users\\occid\\Image_Similarity_Matrix_ViT.xlsx\n"
     ]
    }
   ],
   "source": [
    "import pandas as pd\n",
    "import requests\n",
    "import torch\n",
    "from PIL import Image\n",
    "from io import BytesIO\n",
    "import numpy as np\n",
    "from transformers import ViTModel, ViTImageProcessor\n",
    "from sklearn.metrics.pairwise import cosine_similarity\n",
    "\n",
    "# Load the Excel file\n",
    "file_path = 'C:\\\\Users\\\\occid\\\\cleaned_data_no_duplicates.xlsx'\n",
    "sheet_name = 'Sheet1'\n",
    "df = pd.read_excel(file_path, sheet_name=sheet_name)\n",
    "\n",
    "# Load the Vision Transformer (ViT) model and image processor\n",
    "processor = ViTImageProcessor.from_pretrained(\"google/vit-base-patch16-224\")\n",
    "model = ViTModel.from_pretrained(\"google/vit-base-patch16-224\")\n",
    "model.eval()  # Set the model to evaluation mode\n",
    "\n",
    "# Function to fetch and preprocess an image from a URL\n",
    "def process_image_from_url(url):\n",
    "    try:\n",
    "        response = requests.get(url, timeout=10)\n",
    "        if response.status_code == 200:\n",
    "            image = Image.open(BytesIO(response.content)).convert('RGB')\n",
    "            return image\n",
    "        else:\n",
    "            print(f\"Failed to fetch image from {url}\")\n",
    "            return None\n",
    "    except Exception as e:\n",
    "        print(f\"Error fetching image from {url}: {e}\")\n",
    "        return None\n",
    "\n",
    "# Function to extract feature vector from an image using ViT\n",
    "def extract_features(image):\n",
    "    try:\n",
    "        # Preprocess the image\n",
    "        inputs = processor(images=image, return_tensors=\"pt\")\n",
    "        with torch.no_grad():\n",
    "            outputs = model(**inputs)\n",
    "        # Use the CLS token's embedding as the feature vector\n",
    "        features = outputs.last_hidden_state[:, 0, :].detach().numpy()\n",
    "        return features.squeeze(0)  # Remove batch dimension\n",
    "    except Exception as e:\n",
    "        print(f\"Error extracting features: {e}\")\n",
    "        return None\n",
    "\n",
    "# List of image URLs from the dataset\n",
    "image_urls = df['image'].tolist()\n",
    "barcodes = df['barcode'].tolist()\n",
    "features = []\n",
    "\n",
    "# Process each image URL and extract features\n",
    "valid_barcodes = []\n",
    "for url, barcode in zip(image_urls, barcodes):\n",
    "    image = process_image_from_url(url)\n",
    "    if image is not None:\n",
    "        feature_vector = extract_features(image)\n",
    "        if feature_vector is not None:\n",
    "            features.append(feature_vector)\n",
    "            valid_barcodes.append(barcode)\n",
    "\n",
    "# Flatten feature vectors for similarity computation\n",
    "features = np.vstack(features)\n",
    "\n",
    "# Calculate similarity matrix\n",
    "similarity_matrix = cosine_similarity(features)\n",
    "\n",
    "# Create a similarity matrix DataFrame using valid barcodes\n",
    "similarity_df = pd.DataFrame(similarity_matrix, columns=valid_barcodes, index=valid_barcodes)\n",
    "\n",
    "# Save the similarity matrix to a file for review\n",
    "output_file = \"C:\\\\Users\\\\occid\\\\Image_Similarity_Matrix_ViT.xlsx\"\n",
    "similarity_df.to_excel(output_file)\n",
    "\n",
    "print(f\"Image similarity matrix saved to {output_file}\")\n"
   ]
  },
  {
   "cell_type": "code",
   "execution_count": 6,
   "id": "87927a94",
   "metadata": {},
   "outputs": [
    {
     "name": "stdout",
     "output_type": "stream",
     "text": [
      "Similar pairs saved to 'similar_image_pairs.csv'\n"
     ]
    }
   ],
   "source": [
    "import pandas as pd\n",
    "import numpy as np\n",
    "\n",
    "# Load the full similarity matrix\n",
    "file_path = 'C:\\\\Users\\\\occid\\\\Image_Similarity_Matrix_ViT.xlsx'\n",
    "similarity_matrix = pd.read_excel(file_path, index_col=0)\n",
    "\n",
    "# Define similarity threshold\n",
    "similarity_threshold = 0.8\n",
    "\n",
    "# Extract image IDs\n",
    "image_ids = similarity_matrix.columns.astype(str).tolist()\n",
    "\n",
    "# Convert the matrix to a NumPy array for efficient computation\n",
    "matrix_values = similarity_matrix.values\n",
    "\n",
    "# Find pairs of images with similarity above the threshold\n",
    "similar_pairs = []\n",
    "for i in range(len(matrix_values)):\n",
    "    for j in range(i + 1, len(matrix_values)):  # Upper triangle only\n",
    "        if matrix_values[i, j] > similarity_threshold:\n",
    "            similar_pairs.append((image_ids[i], image_ids[j], matrix_values[i, j]))\n",
    "\n",
    "# Create a DataFrame for better visualization\n",
    "similar_pairs_df = pd.DataFrame(similar_pairs, columns=[\"Image ID 1\", \"Image ID 2\", \"Similarity Score\"])\n",
    "\n",
    "# Save or display results\n",
    "similar_pairs_df.to_csv('similar_image_pairs_ViT0.8.csv', index=False)\n",
    "print(\"Similar pairs saved to 'similar_image_pairs.csv'\")\n"
   ]
  },
  {
   "cell_type": "code",
   "execution_count": null,
   "id": "bec2aff8",
   "metadata": {},
   "outputs": [],
   "source": []
  }
 ],
 "metadata": {
  "kernelspec": {
   "display_name": "Python 3 (ipykernel)",
   "language": "python",
   "name": "python3"
  },
  "language_info": {
   "codemirror_mode": {
    "name": "ipython",
    "version": 3
   },
   "file_extension": ".py",
   "mimetype": "text/x-python",
   "name": "python",
   "nbconvert_exporter": "python",
   "pygments_lexer": "ipython3",
   "version": "3.9.13"
  }
 },
 "nbformat": 4,
 "nbformat_minor": 5
}
